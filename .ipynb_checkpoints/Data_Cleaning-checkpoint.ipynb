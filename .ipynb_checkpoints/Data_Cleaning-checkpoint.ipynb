{
 "cells": [
  {
   "cell_type": "code",
   "execution_count": 1,
   "metadata": {},
   "outputs": [],
   "source": [
    "import pandas as pd\n",
    "import numpy as np"
   ]
  },
  {
   "cell_type": "code",
   "execution_count": 3,
   "metadata": {},
   "outputs": [],
   "source": [
    "df1 = pd.read_csv('salaries_all.csv')\n",
    "df2 = pd.read_csv('Data_Glassdoor.csv')\n",
    "df2 = df2.rename(columns={'name':'company_name'})\n",
    "df_merged = pd.merge(df1,df2,on='company_name')\n",
    "df_merged.to_csv('Merged_Data.csv', sep = ',', index = False)\n",
    "df_merged.drop(['attributionURL', 'parentEmployer','perOccEmployerDefaultCountryBasePayCount',\n",
    "                'sectorId','squareLogo','perOccUnfilteredThisCountryBasePayCount', 'companyLogo',\n",
    "                'company_longName','exactMatch','featuredReview','industry','website','jobTitleId',\n",
    "                'count','ceo','id_x','id_y','industryId','Unnamed: 0','totalSalariesCount','obscureType'], \n",
    "               axis=1,inplace=True)"
   ]
  },
  {
   "cell_type": "code",
   "execution_count": 4,
   "metadata": {},
   "outputs": [],
   "source": [
    "df_merged.to_csv('FinalData.csv', sep = ',', index = False)"
   ]
  },
  {
   "cell_type": "code",
   "execution_count": null,
   "metadata": {},
   "outputs": [],
   "source": []
  }
 ],
 "metadata": {
  "kernelspec": {
   "display_name": "Python 3",
   "language": "python",
   "name": "python3"
  },
  "language_info": {
   "codemirror_mode": {
    "name": "ipython",
    "version": 3
   },
   "file_extension": ".py",
   "mimetype": "text/x-python",
   "name": "python",
   "nbconvert_exporter": "python",
   "pygments_lexer": "ipython3",
   "version": "3.7.3"
  }
 },
 "nbformat": 4,
 "nbformat_minor": 2
}
