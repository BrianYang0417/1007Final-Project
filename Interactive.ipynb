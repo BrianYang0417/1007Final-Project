{
 "cells": [
  {
   "cell_type": "code",
   "execution_count": 2,
   "metadata": {},
   "outputs": [],
   "source": [
    "import pandas as pd\n",
    "import numpy as np"
   ]
  },
  {
   "cell_type": "code",
   "execution_count": 122,
   "metadata": {},
   "outputs": [
    {
     "name": "stdout",
     "output_type": "stream",
     "text": [
      "28067\n",
      "27800\n"
     ]
    }
   ],
   "source": [
    "df=pd.read_csv('Merged_Dropped_Data.csv')\n",
    "print(len(df))\n",
    "df = df.drop_duplicates()\n",
    "print(len(df))"
   ]
  },
  {
   "cell_type": "code",
   "execution_count": 117,
   "metadata": {},
   "outputs": [
    {
     "data": {
      "text/plain": [
       "Index(['count', 'employmentStatus', 'jobTitle', 'jobTitleId', 'max', 'mean',\n",
       "       'min', 'obscureType', 'payPeriod', 'id_x', 'company_name',\n",
       "       'totalJobTitlesCount', 'totalSalariesCount', 'Unnamed: 0',\n",
       "       'careerOpportunitiesRating', 'ceo', 'compensationAndBenefitsRating',\n",
       "       'cultureAndValuesRating', 'exactMatch', 'featuredReview', 'id_y',\n",
       "       'industry', 'industryId', 'industryName', 'isEEP', 'numberOfRatings',\n",
       "       'overallRating', 'ratingDescription', 'recommendToFriendRating',\n",
       "       'sectorName', 'seniorLeadershipRating', 'website',\n",
       "       'workLifeBalanceRating'],\n",
       "      dtype='object')"
      ]
     },
     "execution_count": 117,
     "metadata": {},
     "output_type": "execute_result"
    }
   ],
   "source": [
    "df.columns"
   ]
  },
  {
   "cell_type": "code",
   "execution_count": 172,
   "metadata": {},
   "outputs": [],
   "source": [
    "df_cleaned = df[df.columns.drop(['exactMatch','featuredReview','industry','website','jobTitleId','count','ceo','id_x','id_y','industryId','Unnamed: 0','totalSalariesCount','obscureType'])]"
   ]
  },
  {
   "cell_type": "code",
   "execution_count": 178,
   "metadata": {},
   "outputs": [],
   "source": [
    "def search_by_industry(df_industry, industry):\n",
    "    if industry == 'library':\n",
    "        return list(df_industry['industryName'].unique())\n",
    "    elif industry not in df_industry['industryName'].unique():\n",
    "        return 'Invalid Input'\n",
    "    else:\n",
    "        return df_industry.groupby(['industryName']).get_group(industry)"
   ]
  },
  {
   "cell_type": "code",
   "execution_count": 179,
   "metadata": {},
   "outputs": [
    {
     "name": "stdout",
     "output_type": "stream",
     "text": [
      "['Consulting', 'IT Services', 'Advertising & Marketing', 'Computer Hardware & Software', 'Video Games', 'Staffing & Outsourcing', 'Food & Beverage Manufacturing', 'Office Supply Stores', nan, 'Architectural & Engineering Services', 'Construction', 'Commercial Equipment Rental', 'Biotech & Pharmaceuticals', 'Insurance Carriers', 'Hotels, Motels, & Resorts', 'Health Care Services & Hospitals', 'Enterprise Software & Network Solutions', 'Banks & Credit Unions', 'Department, Clothing, & Shoe Stores', 'Internet', 'Electrical & Electronic Manufacturing', 'Social Assistance', 'Insurance Agencies & Brokerages', 'Travel Agencies', 'Chemical Manufacturing', 'Logistics & Supply Chain', 'Publishing', 'Telecommunications Services', 'Cable, Internet & Telephone Providers', 'Miscellaneous Manufacturing', 'Industrial Manufacturing', 'Aerospace & Defense', 'Oil & Gas Services', 'Brokerage Services', 'Financial Transaction Processing', 'Investment Banking & Asset Management', 'Health Care Products Manufacturing', 'Vehicle Dealers', 'Transportation Equipment Manufacturing', 'Media & Entertainment Retail Stores', 'Drug & Health Stores', 'Research & Development', 'Metal & Mineral Manufacturing', 'Lending', 'Wholesale', 'Beauty & Personal Accessories Stores', 'Accounting', 'Energy', 'Education Training Services', 'Membership Organizations', 'Colleges & Universities', 'Financial Analytics & Research', 'Consumer Products Manufacturing', 'Other Retail Stores', 'Security Services', 'Shipping', 'Car Rental', 'K-12 Education', 'General Merchandise & Superstores', 'Federal Agencies', 'Real Estate', 'Automotive Parts & Accessories Stores', 'Municipal Governments', 'Home Furniture & Housewares Stores', 'Business Service Centers & Copy Shops', 'Consumer Electronics & Appliances Stores', 'Fast-Food & Quick-Service Restaurants', 'Sports & Recreation', 'Health Fundraising Organizations', 'Building & Personnel Services', 'Health, Beauty, & Fitness', 'Catering & Food Service Contractors', 'Commercial Printing', 'Auto Repair & Maintenance', 'Mining', 'Utilities', 'News Outlet', 'Museums, Zoos & Amusement Parks', 'Rail', 'Telecommunications Manufacturing', 'Food Production', 'Airlines', 'Motion Picture Production & Distribution', 'Laundry & Dry Cleaning', 'Casual Restaurants', 'Preschool & Child Care', 'Home Centers & Hardware Stores', 'Gambling', 'Legal', 'Gift, Novelty & Souvenir Stores', 'Taxi & Limousine Services', 'Religious Organizations', 'Gas Stations', 'Consumer Product Rental', 'Auctions & Galleries', 'Transportation Management', 'Performing Arts', 'Sporting Goods Stores', 'Parking Lots & Garages', 'General Repair & Maintenance', 'Photography', 'State & Regional Agencies', 'Movie Theaters', 'Upscale Restaurants', 'Charter Air Travel', 'Grantmaking Foundations', 'Toy & Hobby Stores', 'Oil & Gas Exploration & Production', 'Trucking', 'Truck Rental & Leasing', 'Commercial Equipment Repair & Maintenance', 'Wood Product Manufacturing', 'TV Broadcast & Cable Networks', 'Food & Beverage Stores', 'Venture Capital & Private Equity', 'Talent & Modeling Agencies', 'Express Delivery Services', 'Music Production & Distribution', 'Funeral Services']\n",
      "Invalid Input\n",
      "      count employmentStatus                  jobTitle  jobTitleId        max  \\\n",
      "7821    1.0          REGULAR         Software Engineer      4279.0  105457.91   \n",
      "7824    1.0           INTERN       Software Engineer()    602285.0      32.97   \n",
      "7827    3.0          REGULAR  Senior Software Engineer     17959.0  133041.94   \n",
      "7830    3.0           INTERN   Software Engineer Co-Op      4506.0      30.59   \n",
      "7833    3.0          REGULAR  Senior Software Engineer     17959.0  133041.94   \n",
      "\n",
      "           mean        min   obscureType payPeriod     id_x  ... industryName  \\\n",
      "7821  102044.19   98630.46        FUZZED    ANNUAL  1024378  ...   Accounting   \n",
      "7824      31.69      30.41        FUZZED    HOURLY  1024378  ...   Accounting   \n",
      "7827  124871.17  119280.42  FULL_DISPLAY    ANNUAL  1024378  ...   Accounting   \n",
      "7830      28.18      23.46  FULL_DISPLAY    HOURLY  1024378  ...   Accounting   \n",
      "7833  124871.17  119280.42  FULL_DISPLAY    ANNUAL  1024378  ...   Accounting   \n",
      "\n",
      "      isEEP  numberOfRatings  overallRating  ratingDescription  \\\n",
      "7821  False                1            5.0     Very Satisfied   \n",
      "7824  False                1            5.0     Very Satisfied   \n",
      "7827  False                1            5.0     Very Satisfied   \n",
      "7830  False                1            5.0     Very Satisfied   \n",
      "7833  False                1            5.0     Very Satisfied   \n",
      "\n",
      "     recommendToFriendRating          sectorName  seniorLeadershipRating  \\\n",
      "7821                     100  Accounting & Legal                     4.0   \n",
      "7824                     100  Accounting & Legal                     4.0   \n",
      "7827                     100  Accounting & Legal                     4.0   \n",
      "7830                     100  Accounting & Legal                     4.0   \n",
      "7833                     100  Accounting & Legal                     4.0   \n",
      "\n",
      "               website workLifeBalanceRating  \n",
      "7821  www.cogitoweb.it                   5.0  \n",
      "7824  www.cogitoweb.it                   5.0  \n",
      "7827  www.cogitoweb.it                   5.0  \n",
      "7830  www.cogitoweb.it                   5.0  \n",
      "7833  www.cogitoweb.it                   5.0  \n",
      "\n",
      "[5 rows x 33 columns]\n"
     ]
    }
   ],
   "source": [
    "#TEST\n",
    "print(search_by_industry(df,'library'))\n",
    "print(search_by_industry(df,'random_words'))\n",
    "print(search_by_industry(df,'Accounting').head())"
   ]
  },
  {
   "cell_type": "code",
   "execution_count": 134,
   "metadata": {},
   "outputs": [
    {
     "data": {
      "text/plain": [
       "array(['ANNUAL', 'HOURLY', 'MONTHLY'], dtype=object)"
      ]
     },
     "execution_count": 134,
     "metadata": {},
     "output_type": "execute_result"
    }
   ],
   "source": [
    "df['payPeriod'].unique()"
   ]
  },
  {
   "cell_type": "code",
   "execution_count": 166,
   "metadata": {},
   "outputs": [],
   "source": [
    "def search_by_salary(df_salary=None,max_salary=1000000000, min_salary=0,pay_period='a'):\n",
    "    if pay_period = 'a':\n",
    "        df.salary\n",
    "    result = df_salary.loc[df_salary['min']>=min_salary]\n",
    "    result = result.loc[result['max']<=max_salary]\n",
    "    result = result.drop_duplicates(['jobTitle','company_name','sectorName'])   \n",
    "    result = result.sort_values('min',ascending=True)\n",
    "    return result"
   ]
  },
  {
   "cell_type": "code",
   "execution_count": 175,
   "metadata": {
    "scrolled": false
   },
   "outputs": [
    {
     "data": {
      "text/html": [
       "<div>\n",
       "<style scoped>\n",
       "    .dataframe tbody tr th:only-of-type {\n",
       "        vertical-align: middle;\n",
       "    }\n",
       "\n",
       "    .dataframe tbody tr th {\n",
       "        vertical-align: top;\n",
       "    }\n",
       "\n",
       "    .dataframe thead th {\n",
       "        text-align: right;\n",
       "    }\n",
       "</style>\n",
       "<table border=\"1\" class=\"dataframe\">\n",
       "  <thead>\n",
       "    <tr style=\"text-align: right;\">\n",
       "      <th></th>\n",
       "      <th>employmentStatus</th>\n",
       "      <th>jobTitle</th>\n",
       "      <th>max</th>\n",
       "      <th>mean</th>\n",
       "      <th>min</th>\n",
       "      <th>payPeriod</th>\n",
       "      <th>company_name</th>\n",
       "      <th>totalJobTitlesCount</th>\n",
       "      <th>careerOpportunitiesRating</th>\n",
       "      <th>compensationAndBenefitsRating</th>\n",
       "      <th>cultureAndValuesRating</th>\n",
       "      <th>industryName</th>\n",
       "      <th>isEEP</th>\n",
       "      <th>numberOfRatings</th>\n",
       "      <th>overallRating</th>\n",
       "      <th>ratingDescription</th>\n",
       "      <th>recommendToFriendRating</th>\n",
       "      <th>sectorName</th>\n",
       "      <th>seniorLeadershipRating</th>\n",
       "      <th>workLifeBalanceRating</th>\n",
       "    </tr>\n",
       "  </thead>\n",
       "  <tbody>\n",
       "    <tr>\n",
       "      <th>7360</th>\n",
       "      <td>REGULAR</td>\n",
       "      <td>Head of Financial Planning and Analysis</td>\n",
       "      <td>467786.40</td>\n",
       "      <td>447832.59</td>\n",
       "      <td>427878.78</td>\n",
       "      <td>ANNUAL</td>\n",
       "      <td>Citi</td>\n",
       "      <td>1</td>\n",
       "      <td>3.5</td>\n",
       "      <td>3.6</td>\n",
       "      <td>3.5</td>\n",
       "      <td>Investment Banking &amp; Asset Management</td>\n",
       "      <td>True</td>\n",
       "      <td>15663</td>\n",
       "      <td>3.6</td>\n",
       "      <td>Satisfied</td>\n",
       "      <td>71</td>\n",
       "      <td>Finance</td>\n",
       "      <td>3.1</td>\n",
       "      <td>3.3</td>\n",
       "    </tr>\n",
       "    <tr>\n",
       "      <th>22871</th>\n",
       "      <td>REGULAR</td>\n",
       "      <td>Executive Vice President Head of Global Sales ...</td>\n",
       "      <td>458810.87</td>\n",
       "      <td>443738.76</td>\n",
       "      <td>428666.64</td>\n",
       "      <td>ANNUAL</td>\n",
       "      <td>BT</td>\n",
       "      <td>2</td>\n",
       "      <td>3.4</td>\n",
       "      <td>3.5</td>\n",
       "      <td>3.5</td>\n",
       "      <td>Telecommunications Services</td>\n",
       "      <td>True</td>\n",
       "      <td>3742</td>\n",
       "      <td>3.4</td>\n",
       "      <td>OK</td>\n",
       "      <td>55</td>\n",
       "      <td>Telecommunications</td>\n",
       "      <td>3.0</td>\n",
       "      <td>3.8</td>\n",
       "    </tr>\n",
       "    <tr>\n",
       "      <th>22872</th>\n",
       "      <td>REGULAR</td>\n",
       "      <td>Executive Vice President Head of Global Sales ...</td>\n",
       "      <td>458810.87</td>\n",
       "      <td>443738.76</td>\n",
       "      <td>428666.64</td>\n",
       "      <td>ANNUAL</td>\n",
       "      <td>BT</td>\n",
       "      <td>2</td>\n",
       "      <td>3.0</td>\n",
       "      <td>4.0</td>\n",
       "      <td>3.4</td>\n",
       "      <td>NaN</td>\n",
       "      <td>False</td>\n",
       "      <td>4</td>\n",
       "      <td>3.2</td>\n",
       "      <td>OK</td>\n",
       "      <td>44</td>\n",
       "      <td>NaN</td>\n",
       "      <td>3.0</td>\n",
       "      <td>3.7</td>\n",
       "    </tr>\n",
       "    <tr>\n",
       "      <th>7104</th>\n",
       "      <td>REGULAR</td>\n",
       "      <td>Global Head of Mobile Strategy</td>\n",
       "      <td>473600.91</td>\n",
       "      <td>452344.85</td>\n",
       "      <td>431088.78</td>\n",
       "      <td>ANNUAL</td>\n",
       "      <td>Citi</td>\n",
       "      <td>2</td>\n",
       "      <td>3.5</td>\n",
       "      <td>3.6</td>\n",
       "      <td>3.5</td>\n",
       "      <td>Investment Banking &amp; Asset Management</td>\n",
       "      <td>True</td>\n",
       "      <td>15663</td>\n",
       "      <td>3.6</td>\n",
       "      <td>Satisfied</td>\n",
       "      <td>71</td>\n",
       "      <td>Finance</td>\n",
       "      <td>3.1</td>\n",
       "      <td>3.3</td>\n",
       "    </tr>\n",
       "    <tr>\n",
       "      <th>7578</th>\n",
       "      <td>REGULAR</td>\n",
       "      <td>Global Head of Mobile Strategy</td>\n",
       "      <td>474383.69</td>\n",
       "      <td>456189.32</td>\n",
       "      <td>437994.95</td>\n",
       "      <td>ANNUAL</td>\n",
       "      <td>Citicorp North America</td>\n",
       "      <td>1</td>\n",
       "      <td>3.3</td>\n",
       "      <td>3.5</td>\n",
       "      <td>3.4</td>\n",
       "      <td>Lending</td>\n",
       "      <td>False</td>\n",
       "      <td>262</td>\n",
       "      <td>3.4</td>\n",
       "      <td>OK</td>\n",
       "      <td>62</td>\n",
       "      <td>Finance</td>\n",
       "      <td>2.9</td>\n",
       "      <td>3.3</td>\n",
       "    </tr>\n",
       "  </tbody>\n",
       "</table>\n",
       "</div>"
      ],
      "text/plain": [
       "      employmentStatus                                           jobTitle  \\\n",
       "7360           REGULAR            Head of Financial Planning and Analysis   \n",
       "22871          REGULAR  Executive Vice President Head of Global Sales ...   \n",
       "22872          REGULAR  Executive Vice President Head of Global Sales ...   \n",
       "7104           REGULAR                     Global Head of Mobile Strategy   \n",
       "7578           REGULAR                     Global Head of Mobile Strategy   \n",
       "\n",
       "             max       mean        min payPeriod            company_name  \\\n",
       "7360   467786.40  447832.59  427878.78    ANNUAL                    Citi   \n",
       "22871  458810.87  443738.76  428666.64    ANNUAL                      BT   \n",
       "22872  458810.87  443738.76  428666.64    ANNUAL                      BT   \n",
       "7104   473600.91  452344.85  431088.78    ANNUAL                    Citi   \n",
       "7578   474383.69  456189.32  437994.95    ANNUAL  Citicorp North America   \n",
       "\n",
       "       totalJobTitlesCount  careerOpportunitiesRating  \\\n",
       "7360                     1                        3.5   \n",
       "22871                    2                        3.4   \n",
       "22872                    2                        3.0   \n",
       "7104                     2                        3.5   \n",
       "7578                     1                        3.3   \n",
       "\n",
       "       compensationAndBenefitsRating  cultureAndValuesRating  \\\n",
       "7360                             3.6                     3.5   \n",
       "22871                            3.5                     3.5   \n",
       "22872                            4.0                     3.4   \n",
       "7104                             3.6                     3.5   \n",
       "7578                             3.5                     3.4   \n",
       "\n",
       "                                industryName  isEEP  numberOfRatings  \\\n",
       "7360   Investment Banking & Asset Management   True            15663   \n",
       "22871            Telecommunications Services   True             3742   \n",
       "22872                                    NaN  False                4   \n",
       "7104   Investment Banking & Asset Management   True            15663   \n",
       "7578                                 Lending  False              262   \n",
       "\n",
       "       overallRating ratingDescription  recommendToFriendRating  \\\n",
       "7360             3.6         Satisfied                       71   \n",
       "22871            3.4                OK                       55   \n",
       "22872            3.2                OK                       44   \n",
       "7104             3.6         Satisfied                       71   \n",
       "7578             3.4                OK                       62   \n",
       "\n",
       "               sectorName  seniorLeadershipRating  workLifeBalanceRating  \n",
       "7360              Finance                     3.1                    3.3  \n",
       "22871  Telecommunications                     3.0                    3.8  \n",
       "22872                 NaN                     3.0                    3.7  \n",
       "7104              Finance                     3.1                    3.3  \n",
       "7578              Finance                     2.9                    3.3  "
      ]
     },
     "execution_count": 175,
     "metadata": {},
     "output_type": "execute_result"
    }
   ],
   "source": [
    "#TEST\n",
    "search_by_salary(df_salary=df_cleaned,max_salary=500000,min_salary=400000)"
   ]
  },
  {
   "cell_type": "code",
   "execution_count": null,
   "metadata": {},
   "outputs": [],
   "source": []
  }
 ],
 "metadata": {
  "kernelspec": {
   "display_name": "Python 3",
   "language": "python",
   "name": "python3"
  },
  "language_info": {
   "codemirror_mode": {
    "name": "ipython",
    "version": 3
   },
   "file_extension": ".py",
   "mimetype": "text/x-python",
   "name": "python",
   "nbconvert_exporter": "python",
   "pygments_lexer": "ipython3",
   "version": "3.7.3"
  }
 },
 "nbformat": 4,
 "nbformat_minor": 2
}
